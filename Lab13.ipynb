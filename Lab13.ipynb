{
 "cells": [
  {
   "cell_type": "code",
   "execution_count": null,
   "metadata": {
    "id": "GkQu7Pha3leY"
   },
   "outputs": [],
   "source": [
    "from sys import exit\n",
    "import numpy as np\n",
    "import torch\n",
    "import torch.nn as nn\n",
    "import torch.nn.functional as F\n",
    "import torch.optim as optim\n",
    "from torch.utils.data import DataLoader\n",
    "import torch\n",
    "import torch.nn as nn\n",
    "import torch.optim as optim\n",
    "import torchvision\n",
    "from skimage.metrics import structural_similarity as ssim\n",
    "import torchvision.transforms as transforms\n",
    "import matplotlib.pyplot as plt\n",
    "import numpy as np"
   ]
  },
  {
   "cell_type": "markdown",
   "metadata": {},
   "source": [
    "Реализация нейронной сети для классификации изображений из набора данных MNIST с использованием библиотеки PyTorch"
   ]
  },
  {
   "cell_type": "code",
   "execution_count": null,
   "metadata": {
    "id": "1uz2Oc7C32_U"
   },
   "outputs": [],
   "source": [
    "from keras.datasets import mnist"
   ]
  },
  {
   "cell_type": "code",
   "execution_count": null,
   "metadata": {
    "id": "X6lfRhTu4BRB"
   },
   "outputs": [],
   "source": [
    "show_img = 0\n",
    "prn_summary = 1\n",
    "prn = 1\n",
    "epochs = 20\n",
    "batch_size = 128\n",
    "use_bn = 1\n",
    "use_pool = 1\n",
    "rows = cols = 28\n",
    "n_ch = 1\n",
    "num_filters = 16\n",
    "num_filter2 = 32"
   ]
  },
  {
   "cell_type": "code",
   "execution_count": null,
   "metadata": {
    "colab": {
     "base_uri": "https://localhost:8080/"
    },
    "executionInfo": {
     "elapsed": 2759,
     "status": "ok",
     "timestamp": 1734034277180,
     "user": {
      "displayName": "Сергей Бовш",
      "userId": "15084958919321462065"
     },
     "user_tz": -180
    },
    "id": "zo03KgLm4Kbg",
    "outputId": "16cb368d-47ed-4371-c2b2-bcec4ce75d09"
   },
   "outputs": [
    {
     "name": "stdout",
     "output_type": "stream",
     "text": [
      "Downloading http://yann.lecun.com/exdb/mnist/train-images-idx3-ubyte.gz\n",
      "Failed to download (trying next):\n",
      "HTTP Error 403: Forbidden\n",
      "\n",
      "Downloading https://ossci-datasets.s3.amazonaws.com/mnist/train-images-idx3-ubyte.gz\n",
      "Downloading https://ossci-datasets.s3.amazonaws.com/mnist/train-images-idx3-ubyte.gz to ./data/MNIST/raw/train-images-idx3-ubyte.gz\n"
     ]
    },
    {
     "name": "stderr",
     "output_type": "stream",
     "text": [
      "100%|██████████| 9.91M/9.91M [00:00<00:00, 58.6MB/s]\n"
     ]
    },
    {
     "name": "stdout",
     "output_type": "stream",
     "text": [
      "Extracting ./data/MNIST/raw/train-images-idx3-ubyte.gz to ./data/MNIST/raw\n",
      "\n",
      "Downloading http://yann.lecun.com/exdb/mnist/train-labels-idx1-ubyte.gz\n",
      "Failed to download (trying next):\n",
      "HTTP Error 403: Forbidden\n",
      "\n",
      "Downloading https://ossci-datasets.s3.amazonaws.com/mnist/train-labels-idx1-ubyte.gz\n",
      "Downloading https://ossci-datasets.s3.amazonaws.com/mnist/train-labels-idx1-ubyte.gz to ./data/MNIST/raw/train-labels-idx1-ubyte.gz\n"
     ]
    },
    {
     "name": "stderr",
     "output_type": "stream",
     "text": [
      "100%|██████████| 28.9k/28.9k [00:00<00:00, 1.81MB/s]"
     ]
    },
    {
     "name": "stdout",
     "output_type": "stream",
     "text": [
      "Extracting ./data/MNIST/raw/train-labels-idx1-ubyte.gz to ./data/MNIST/raw\n",
      "\n",
      "Downloading http://yann.lecun.com/exdb/mnist/t10k-images-idx3-ubyte.gz\n"
     ]
    },
    {
     "name": "stderr",
     "output_type": "stream",
     "text": [
      "\n"
     ]
    },
    {
     "name": "stdout",
     "output_type": "stream",
     "text": [
      "Failed to download (trying next):\n",
      "HTTP Error 403: Forbidden\n",
      "\n",
      "Downloading https://ossci-datasets.s3.amazonaws.com/mnist/t10k-images-idx3-ubyte.gz\n",
      "Downloading https://ossci-datasets.s3.amazonaws.com/mnist/t10k-images-idx3-ubyte.gz to ./data/MNIST/raw/t10k-images-idx3-ubyte.gz\n"
     ]
    },
    {
     "name": "stderr",
     "output_type": "stream",
     "text": [
      "100%|██████████| 1.65M/1.65M [00:00<00:00, 13.8MB/s]\n"
     ]
    },
    {
     "name": "stdout",
     "output_type": "stream",
     "text": [
      "Extracting ./data/MNIST/raw/t10k-images-idx3-ubyte.gz to ./data/MNIST/raw\n",
      "\n",
      "Downloading http://yann.lecun.com/exdb/mnist/t10k-labels-idx1-ubyte.gz\n",
      "Failed to download (trying next):\n",
      "HTTP Error 403: Forbidden\n",
      "\n",
      "Downloading https://ossci-datasets.s3.amazonaws.com/mnist/t10k-labels-idx1-ubyte.gz\n",
      "Downloading https://ossci-datasets.s3.amazonaws.com/mnist/t10k-labels-idx1-ubyte.gz to ./data/MNIST/raw/t10k-labels-idx1-ubyte.gz\n"
     ]
    },
    {
     "name": "stderr",
     "output_type": "stream",
     "text": [
      "100%|██████████| 4.54k/4.54k [00:00<00:00, 3.33MB/s]"
     ]
    },
    {
     "name": "stdout",
     "output_type": "stream",
     "text": [
      "Extracting ./data/MNIST/raw/t10k-labels-idx1-ubyte.gz to ./data/MNIST/raw\n",
      "\n"
     ]
    },
    {
     "name": "stderr",
     "output_type": "stream",
     "text": [
      "\n"
     ]
    }
   ],
   "source": [
    "transform = transforms.Compose([transforms.ToTensor(),transforms.Normalize((0.5,), (0.5,))])\n",
    "\n",
    "trainset = torchvision.datasets.MNIST(root='./data', train=True, download=True, transform=transform)\n",
    "trainloader = torch.utils.data.DataLoader(trainset, batch_size=64, shuffle=True)\n",
    "\n",
    "testset = torchvision.datasets.MNIST(root='./data', train=False, download=True, transform=transform)\n",
    "testloader = torch.utils.data.DataLoader(testset, batch_size=64, shuffle=False)"
   ]
  },
  {
   "cell_type": "code",
   "execution_count": null,
   "metadata": {
    "id": "EdGVxeOD4gy7"
   },
   "outputs": [],
   "source": [
    "def prep_x(xd, yd):\n",
    "    xd = np.array(xd, dtype = 'float32') / 255\n",
    "    xd = xd.reshape(-1, n_ch, rows, cols)\n",
    "    data = [[x, y] for x, y in zip(xd, yd)]\n",
    "    # Формирование пакетов\n",
    "    d_loader = DataLoader(data, batch_size = batch_size, shuffle = True)\n",
    "    in_d = len(d_loader.sampler)\n",
    "    return xd, d_loader, in_d"
   ]
  },
  {
   "cell_type": "code",
   "execution_count": 8,
   "metadata": {
    "colab": {
     "base_uri": "https://localhost:8080/",
     "height": 1000
    },
    "executionInfo": {
     "elapsed": 804347,
     "status": "ok",
     "timestamp": 1734036283858,
     "user": {
      "displayName": "Сергей Бовш",
      "userId": "15084958919321462065"
     },
     "user_tz": -180
    },
    "id": "uywiukih4kXy",
    "outputId": "7522b579-1488-48a9-c740-8734a56cdfa9"
   },
   "outputs": [
    {
     "name": "stdout",
     "output_type": "stream",
     "text": [
      "----------------------------------------------------------------\n",
      "        Layer (type)               Output Shape         Param #\n",
      "================================================================\n",
      "            Conv2d-1           [-1, 16, 26, 26]             160\n",
      "         MaxPool2d-2           [-1, 16, 13, 13]               0\n",
      "       BatchNorm2d-3           [-1, 16, 13, 13]              32\n",
      "            Conv2d-4           [-1, 32, 11, 11]           4,640\n",
      "         MaxPool2d-5             [-1, 32, 5, 5]               0\n",
      "            Linear-6                   [-1, 10]           8,010\n",
      "================================================================\n",
      "Total params: 12,842\n",
      "Trainable params: 12,842\n",
      "Non-trainable params: 0\n",
      "----------------------------------------------------------------\n",
      "Input size (MB): 0.00\n",
      "Forward/backward pass size (MB): 0.16\n",
      "Params size (MB): 0.05\n",
      "Estimated Total Size (MB): 0.21\n",
      "----------------------------------------------------------------\n",
      "epochs = 20\n",
      "Обучение\n",
      "Epoch 1, Loss: 0.12201602374333075\n"
     ]
    },
    {
     "data": {
      "image/png": "[encoded data removed]",
      "text/plain": [
       "<Figure size 2000x500 with 6 Axes>"
      ]
     },
     "metadata": {},
     "output_type": "display_data"
    },
    {
     "name": "stdout",
     "output_type": "stream",
     "text": [
      "(13, 13) (13, 13)\n",
      "-0.77178955\n",
      "1.5926107\n",
      "-1.5803139\n",
      "1.545522\n",
      "SSIM между Pool1 и BN1: -0.37566531930422903\n",
      "Epoch 2, Loss: 0.056123854837249784\n",
      "Epoch 3, Loss: 0.0523131309315249\n",
      "Epoch 4, Loss: 0.04863114036383823\n",
      "Epoch 5, Loss: 0.0462721142864923\n",
      "Epoch 6, Loss: 0.043181778835263966\n",
      "Epoch 7, Loss: 0.042561484996965944\n",
      "Epoch 8, Loss: 0.044018235931870354\n",
      "Epoch 9, Loss: 0.0452899622285464\n"
     ]
    },
    {
     "data": {
      "image/png": "[encoded data removed]",
      "text/plain": [
       "<Figure size 2000x500 with 6 Axes>"
      ]
     },
     "metadata": {},
     "output_type": "display_data"
    },
    {
     "name": "stdout",
     "output_type": "stream",
     "text": [
      "(13, 13) (13, 13)\n",
      "-1.658222\n",
      "4.457741\n",
      "-0.111803204\n",
      "0.5242183\n",
      "SSIM между Pool1 и BN1: 0.1264143554999835\n",
      "Epoch 10, Loss: 0.042340972204863\n",
      "Epoch 11, Loss: 0.0497873190477033\n",
      "Epoch 12, Loss: 0.04025716307908599\n",
      "Epoch 13, Loss: 0.053430794236407515\n",
      "Epoch 14, Loss: 0.04211898949651957\n",
      "Epoch 15, Loss: 0.0398649554207349\n",
      "Epoch 16, Loss: 0.043084357898322906\n",
      "Epoch 17, Loss: 0.05995322493551131\n",
      "Epoch 18, Loss: 0.03640073566223351\n",
      "Epoch 19, Loss: 0.04826720303174261\n",
      "Epoch 20, Loss: 0.0480607211464856\n",
      "Проверка\n",
      "              precision    recall  f1-score   support\n",
      "\n",
      "           0     0.9888    0.9939    0.9913       980\n",
      "           1     0.9929    0.9877    0.9903      1135\n",
      "           2     0.9806    0.9777    0.9791      1032\n",
      "           3     0.9728    0.9921    0.9824      1010\n",
      "           4     0.9856    0.9766    0.9811       982\n",
      "           5     0.9701    0.9809    0.9755       892\n",
      "           6     0.9926    0.9770    0.9847       958\n",
      "           7     0.9815    0.9805    0.9810      1028\n",
      "           8     0.9816    0.9856    0.9836       974\n",
      "           9     0.9781    0.9732    0.9757      1009\n",
      "\n",
      "    accuracy                         0.9826     10000\n",
      "   macro avg     0.9825    0.9825    0.9825     10000\n",
      "weighted avg     0.9827    0.9826    0.9826     10000\n",
      "\n"
     ]
    }
   ],
   "source": [
    "class Net(nn.Module):\n",
    "    def __init__(self):\n",
    "        super(Net, self).__init__()\n",
    "        self.conv1 = nn.Conv2d(1, 16, 3, 1)\n",
    "        self.pool1 = nn.MaxPool2d(2, 2)\n",
    "        self.bn1 = nn.BatchNorm2d(16)\n",
    "        self.conv2 = nn.Conv2d(16, 32, 3, 1)\n",
    "        self.pool2 = nn.MaxPool2d(2, 2)\n",
    "        self.fc = nn.Linear(32 * 5 * 5, 10)  # Добавляем полносвязный слой\n",
    "\n",
    "    def forward(self, x):\n",
    "        x = self.conv1(x)\n",
    "        x = torch.relu(x)\n",
    "        x = self.pool1(x)\n",
    "        x = self.bn1(x)\n",
    "        x = self.conv2(x)\n",
    "        x = torch.relu(x)\n",
    "        x = self.pool2(x)\n",
    "        x = torch.flatten(x, 1)  # Преобразуем выход в 2D тензор\n",
    "        x = self.fc(x)  # Применяем полносвязный слой\n",
    "        return x\n",
    "def print_image(model,image):\n",
    "    layers = [\n",
    "        ('Input', image),\n",
    "        ('Conv1', model.conv1(image)),\n",
    "        ('Pool1', model.pool1(model.conv1(image))),\n",
    "        ('BN1', model.bn1(model.pool1(model.conv1(image)))),\n",
    "        ('Conv2', model.conv2(model.bn1(model.pool1(model.conv1(image))))),\n",
    "        ('Pool2', model.pool2(model.conv2(model.bn1(model.pool1(model.conv1(image))))))\n",
    "    ]\n",
    "    fig, axs = plt.subplots(1, 6, figsize=(20, 5))\n",
    "    for i, (name, output) in enumerate(layers):\n",
    "        axs[i].imshow(output[0, 0].detach().numpy(), cmap='gray')\n",
    "        axs[i].set_title(name)\n",
    "        axs[i].axis('off')\n",
    "    plt.show()\n",
    "\n",
    "    pool1_output = model.pool1(model.conv1(image))[0, 0].detach().numpy()\n",
    "    bn1_output = model.bn1(model.pool1(model.conv1(image)))[0, 0].detach().numpy()\n",
    "    print(pool1_output.shape, bn1_output.shape)\n",
    "    m1 = max(pool1_output.max(), bn1_output.max())\n",
    "    m2 = min(pool1_output.min(), bn1_output.min())\n",
    "    print(pool1_output.min())\n",
    "    print(pool1_output.max())\n",
    "\n",
    "    print(bn1_output.min())\n",
    "    print(bn1_output.max())\n",
    "\n",
    "    ssim_value = ssim(pool1_output, bn1_output, data_range=m1 - m2)\n",
    "    # ssim_value = ssim(pool1_output, bn1_output, full = True, multichannel = True)\n",
    "    print(f'SSIM между Pool1 и BN1: {ssim_value}')\n",
    "def train(epoch):\n",
    "    running_loss = 0.0\n",
    "    for i, data in enumerate(trainloader, 0):\n",
    "        inputs, labels = data\n",
    "        optimizer.zero_grad()\n",
    "        outputs = model(inputs)\n",
    "\n",
    "        loss = criterion(outputs, labels)\n",
    "        loss.backward()\n",
    "        optimizer.step()\n",
    "        running_loss += loss.item()\n",
    "\n",
    "        if i == 0 and epoch in [1, 9]:\n",
    "            for j in range(len(labels)):\n",
    "                if labels[j] == 8:\n",
    "                    print_image(model, inputs[j].unsqueeze(0))\n",
    "                    break\n",
    "    print(f'Epoch {epoch + 1}, Loss: {running_loss / len(trainloader)}')\n",
    "def test():\n",
    "    print('Проверка')\n",
    "    y_true, y_pred = [], []\n",
    "    model.eval() #Режим оценки\n",
    "    for data, target in testloader:\n",
    "        output = model(data)\n",
    "        _, pred = torch.max(output, 1)\n",
    "        for i in range(len(target)):\n",
    "            label = target.data[i]\n",
    "            y_true.append(label)\n",
    "            y_pred.append(pred[i])\n",
    "    from sklearn.metrics import classification_report\n",
    "    print(classification_report(y_true, y_pred, digits = 4))\n",
    "\n",
    "\n",
    "model = Net()\n",
    "\n",
    "if prn_summary:\n",
    "    from torchsummary import summary\n",
    "    summary(model, (1, rows, cols)) # Сначала канал\n",
    "print('epochs =', epochs)\n",
    "\n",
    "print('Обучение')\n",
    "criterion = nn.CrossEntropyLoss() # Функция потерь\n",
    "optimizer = torch.optim.Adam(model.parameters(), lr = 0.01)\n",
    "\n",
    "for ep in range(epochs):\n",
    "    train(ep)\n",
    "test()"
   ]
  }
 ],
 "metadata": {
  "colab": {
   "authorship_tag": "ABX9TyNypyyNRPbaVpjYAQd2Y1dP",
   "provenance": [],
   "toc_visible": true
  },
  "kernelspec": {
   "display_name": "Python 3 (ipykernel)",
   "language": "python",
   "name": "python3"
  },
  "language_info": {
   "codemirror_mode": {
    "name": "ipython",
    "version": 3
   },
   "file_extension": ".py",
   "mimetype": "text/x-python",
   "name": "python",
   "nbconvert_exporter": "python",
   "pygments_lexer": "ipython3",
   "version": "3.12.4"
  }
 },
 "nbformat": 4,
 "nbformat_minor": 4
}
